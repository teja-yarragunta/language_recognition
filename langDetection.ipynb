{
 "cells": [
  {
   "cell_type": "code",
   "execution_count": 48,
   "id": "8b5e79b6-7a47-4eeb-94e8-8a85d24d946d",
   "metadata": {},
   "outputs": [],
   "source": [
    "import pandas as pd\n",
    "from sklearn.model_selection import train_test_split\n",
    "from sklearn.feature_extraction.text import CountVectorizer\n",
    "from sklearn.preprocessing import LabelEncoder\n",
    "from sklearn.metrics import accuracy_score\n",
    "import tensorflow as tf\n",
    "from tensorflow.keras import layers, models\n",
    "import tensorflow as tf\n",
    "from scipy.sparse import csr_matrix\n",
    "import pickle\n",
    "#visualisation\n",
    "import seaborn as sns                       \n",
    "import matplotlib.pyplot as plt \n",
    "import warnings\n",
    "warnings.filterwarnings('ignore')"
   ]
  },
  {
   "cell_type": "code",
   "execution_count": 49,
   "id": "a01ed616-c6db-41c1-a62e-7b5abfa31735",
   "metadata": {},
   "outputs": [
    {
     "data": {
      "text/html": [
       "<div>\n",
       "<style scoped>\n",
       "    .dataframe tbody tr th:only-of-type {\n",
       "        vertical-align: middle;\n",
       "    }\n",
       "\n",
       "    .dataframe tbody tr th {\n",
       "        vertical-align: top;\n",
       "    }\n",
       "\n",
       "    .dataframe thead th {\n",
       "        text-align: right;\n",
       "    }\n",
       "</style>\n",
       "<table border=\"1\" class=\"dataframe\">\n",
       "  <thead>\n",
       "    <tr style=\"text-align: right;\">\n",
       "      <th></th>\n",
       "      <th>Text</th>\n",
       "      <th>Language</th>\n",
       "    </tr>\n",
       "  </thead>\n",
       "  <tbody>\n",
       "    <tr>\n",
       "      <th>0</th>\n",
       "      <td>Nature, in the broadest sense, is the natural...</td>\n",
       "      <td>English</td>\n",
       "    </tr>\n",
       "    <tr>\n",
       "      <th>1</th>\n",
       "      <td>\"Nature\" can refer to the phenomena of the phy...</td>\n",
       "      <td>English</td>\n",
       "    </tr>\n",
       "    <tr>\n",
       "      <th>2</th>\n",
       "      <td>The study of nature is a large, if not the onl...</td>\n",
       "      <td>English</td>\n",
       "    </tr>\n",
       "    <tr>\n",
       "      <th>3</th>\n",
       "      <td>Although humans are part of nature, human acti...</td>\n",
       "      <td>English</td>\n",
       "    </tr>\n",
       "    <tr>\n",
       "      <th>4</th>\n",
       "      <td>[1] The word nature is borrowed from the Old F...</td>\n",
       "      <td>English</td>\n",
       "    </tr>\n",
       "    <tr>\n",
       "      <th>...</th>\n",
       "      <td>...</td>\n",
       "      <td>...</td>\n",
       "    </tr>\n",
       "    <tr>\n",
       "      <th>10332</th>\n",
       "      <td>ನಿಮ್ಮ ತಪ್ಪು ಏನು ಬಂದಿದೆಯೆಂದರೆ ಆ ದಿನದಿಂದ ನಿಮಗೆ ಒ...</td>\n",
       "      <td>Kannada</td>\n",
       "    </tr>\n",
       "    <tr>\n",
       "      <th>10333</th>\n",
       "      <td>ನಾರ್ಸಿಸಾ ತಾನು ಮೊದಲಿಗೆ ಹೆಣಗಾಡುತ್ತಿದ್ದ ಮಾರ್ಗಗಳನ್...</td>\n",
       "      <td>Kannada</td>\n",
       "    </tr>\n",
       "    <tr>\n",
       "      <th>10334</th>\n",
       "      <td>ಹೇಗೆ ' ನಾರ್ಸಿಸಿಸಮ್ ಈಗ ಮರಿಯನ್ ಅವರಿಗೆ ಸಂಭವಿಸಿದ ಎ...</td>\n",
       "      <td>Kannada</td>\n",
       "    </tr>\n",
       "    <tr>\n",
       "      <th>10335</th>\n",
       "      <td>ಅವಳು ಈಗ ಹೆಚ್ಚು ಚಿನ್ನದ ಬ್ರೆಡ್ ಬಯಸುವುದಿಲ್ಲ ಎಂದು ...</td>\n",
       "      <td>Kannada</td>\n",
       "    </tr>\n",
       "    <tr>\n",
       "      <th>10336</th>\n",
       "      <td>ಟೆರ್ರಿ ನೀವು ನಿಜವಾಗಿಯೂ ಆ ದೇವದೂತನಂತೆ ಸ್ವಲ್ಪ ಕಾಣು...</td>\n",
       "      <td>Kannada</td>\n",
       "    </tr>\n",
       "  </tbody>\n",
       "</table>\n",
       "<p>10337 rows × 2 columns</p>\n",
       "</div>"
      ],
      "text/plain": [
       "                                                    Text Language\n",
       "0       Nature, in the broadest sense, is the natural...  English\n",
       "1      \"Nature\" can refer to the phenomena of the phy...  English\n",
       "2      The study of nature is a large, if not the onl...  English\n",
       "3      Although humans are part of nature, human acti...  English\n",
       "4      [1] The word nature is borrowed from the Old F...  English\n",
       "...                                                  ...      ...\n",
       "10332  ನಿಮ್ಮ ತಪ್ಪು ಏನು ಬಂದಿದೆಯೆಂದರೆ ಆ ದಿನದಿಂದ ನಿಮಗೆ ಒ...  Kannada\n",
       "10333  ನಾರ್ಸಿಸಾ ತಾನು ಮೊದಲಿಗೆ ಹೆಣಗಾಡುತ್ತಿದ್ದ ಮಾರ್ಗಗಳನ್...  Kannada\n",
       "10334  ಹೇಗೆ ' ನಾರ್ಸಿಸಿಸಮ್ ಈಗ ಮರಿಯನ್ ಅವರಿಗೆ ಸಂಭವಿಸಿದ ಎ...  Kannada\n",
       "10335  ಅವಳು ಈಗ ಹೆಚ್ಚು ಚಿನ್ನದ ಬ್ರೆಡ್ ಬಯಸುವುದಿಲ್ಲ ಎಂದು ...  Kannada\n",
       "10336  ಟೆರ್ರಿ ನೀವು ನಿಜವಾಗಿಯೂ ಆ ದೇವದೂತನಂತೆ ಸ್ವಲ್ಪ ಕಾಣು...  Kannada\n",
       "\n",
       "[10337 rows x 2 columns]"
      ]
     },
     "execution_count": 49,
     "metadata": {},
     "output_type": "execute_result"
    }
   ],
   "source": [
    "df = pd.read_csv('Language Detection.csv')\n",
    "df"
   ]
  },
  {
   "cell_type": "code",
   "execution_count": 50,
   "id": "8f5b4410-fd94-4c13-90a9-9040b1a85b78",
   "metadata": {},
   "outputs": [
    {
     "name": "stdout",
     "output_type": "stream",
     "text": [
      "      Language  Count\n",
      "0      English   1385\n",
      "1       French   1014\n",
      "2      Spanish    819\n",
      "3   Portugeese    739\n",
      "4      Italian    698\n",
      "5      Russian    692\n",
      "6     Sweedish    676\n",
      "7    Malayalam    594\n",
      "8        Dutch    546\n",
      "9       Arabic    536\n",
      "10     Turkish    474\n",
      "11      German    470\n",
      "12       Tamil    469\n",
      "13      Danish    428\n",
      "14     Kannada    369\n",
      "15       Greek    365\n",
      "16       Hindi     63\n"
     ]
    }
   ],
   "source": [
    "language_counts = df[\"Language\"].value_counts().reset_index()\n",
    "language_counts.columns = [\"Language\", \"Count\"]\n",
    "# Display the new DataFrame\n",
    "print(language_counts)"
   ]
  },
  {
   "cell_type": "code",
   "execution_count": 51,
   "id": "a15dba52-9b5a-4b96-8437-56b6662c1ef9",
   "metadata": {},
   "outputs": [
    {
     "data": {
      "image/png": "[encoded data removed]",
      "text/plain": [
       "<Figure size 1000x600 with 1 Axes>"
      ]
     },
     "metadata": {},
     "output_type": "display_data"
    }
   ],
   "source": [
    "plt.figure(figsize=(10, 6))\n",
    "sns.barplot(x='Count', y='Language', data=language_counts, palette='muted')\n",
    "plt.xlabel('Count')\n",
    "plt.ylabel('Language')\n",
    "plt.title('Language Distribution')\n",
    "plt.tight_layout()\n",
    "plt.show()"
   ]
  },
  {
   "cell_type": "code",
   "execution_count": 52,
   "id": "6812a48f-3182-4bbc-8ddc-70687d8b7231",
   "metadata": {},
   "outputs": [],
   "source": [
    "# splitting the df to test and train data\n",
    "train_texts, test_texts, train_labels, test_labels = train_test_split(df['Text'], df['Language'], test_size=0.2, random_state=42)"
   ]
  },
  {
   "cell_type": "code",
   "execution_count": 53,
   "id": "743141db-3920-4bba-82e8-cc5669ff9574",
   "metadata": {},
   "outputs": [],
   "source": [
    "# Tokenize and vectorize the text data\n",
    "vectorizer = CountVectorizer()\n",
    "X_train = vectorizer.fit_transform(train_texts)\n",
    "X_test = vectorizer.transform(test_texts)"
   ]
  },
  {
   "cell_type": "code",
   "execution_count": 54,
   "id": "7d194427-abb6-4ea4-858a-897ad22f568b",
   "metadata": {},
   "outputs": [],
   "source": [
    "# Encode the language labels\n",
    "label_encoder = LabelEncoder()\n",
    "y_train = label_encoder.fit_transform(train_labels)\n",
    "y_test = label_encoder.transform(test_labels)"
   ]
  },
  {
   "cell_type": "code",
   "execution_count": 29,
   "id": "e995827d-83dc-47e8-8331-d90bbe17e5f9",
   "metadata": {},
   "outputs": [
    {
     "name": "stdout",
     "output_type": "stream",
     "text": [
      "Model: \"sequential_2\"\n",
      "_________________________________________________________________\n",
      " Layer (type)                Output Shape              Param #   \n",
      "=================================================================\n",
      " dense_7 (Dense)             (None, 128)               4455552   \n",
      "                                                                 \n",
      " dense_8 (Dense)             (None, 64)                8256      \n",
      "                                                                 \n",
      " dense_9 (Dense)             (None, 32)                2080      \n",
      "                                                                 \n",
      " dense_10 (Dense)            (None, 17)                561       \n",
      "                                                                 \n",
      "=================================================================\n",
      "Total params: 4466449 (17.04 MB)\n",
      "Trainable params: 4466449 (17.04 MB)\n",
      "Non-trainable params: 0 (0.00 Byte)\n",
      "_________________________________________________________________\n"
     ]
    }
   ],
   "source": [
    "model = models.Sequential([\n",
    "    layers.Dense(128, activation='relu', input_shape=(X_train.shape[1],)),\n",
    "    layers.Dense(64, activation='relu'),\n",
    "    layers.Dense(32, activation = 'relu'),\n",
    "    layers.Dense(len(label_encoder.classes_), activation='softmax')\n",
    "])\n",
    "model.summary()"
   ]
  },
  {
   "cell_type": "code",
   "execution_count": 30,
   "id": "caf4ee37-f171-4eb1-b325-0c61f35e5358",
   "metadata": {},
   "outputs": [],
   "source": [
    "model.compile(optimizer='adam', loss='sparse_categorical_crossentropy', metrics=['accuracy'])"
   ]
  },
  {
   "cell_type": "code",
   "execution_count": 31,
   "id": "7547680c-8067-48d5-8f98-f1699d3b1f82",
   "metadata": {},
   "outputs": [],
   "source": [
    "# manually splitting the data\n",
    "X_train, X_val, y_train, y_val = train_test_split(X_train, y_train, test_size=0.2, random_state=42)"
   ]
  },
  {
   "cell_type": "code",
   "execution_count": 32,
   "id": "62cd2d9b-2793-45bd-b4c4-11e39bdb3c1a",
   "metadata": {},
   "outputs": [],
   "source": [
    "# Convert sparse matrices to TensorFlow Sparse Tensors\n",
    "X_train_sparse = tf.convert_to_tensor(csr_matrix(X_train).todense(), dtype=tf.float32)\n",
    "X_val_sparse = tf.convert_to_tensor(csr_matrix(X_val).todense(), dtype=tf.float32)\n",
    "X_test_sparse = tf.convert_to_tensor(csr_matrix(X_test).todense(), dtype=tf.float32)"
   ]
  },
  {
   "cell_type": "code",
   "execution_count": 33,
   "id": "98539bd9-9497-472c-b563-5dd8d784ffb3",
   "metadata": {},
   "outputs": [
    {
     "name": "stdout",
     "output_type": "stream",
     "text": [
      "Epoch 1/10\n",
      "207/207 [==============================] - 5s 17ms/step - loss: 0.9279 - accuracy: 0.8363 - val_loss: 0.2098 - val_accuracy: 0.9661\n",
      "Epoch 2/10\n",
      "207/207 [==============================] - 3s 13ms/step - loss: 0.1025 - accuracy: 0.9867 - val_loss: 0.1423 - val_accuracy: 0.9692\n",
      "Epoch 3/10\n",
      "207/207 [==============================] - 3s 13ms/step - loss: 0.0288 - accuracy: 0.9971 - val_loss: 0.1299 - val_accuracy: 0.9722\n",
      "Epoch 4/10\n",
      "207/207 [==============================] - 3s 14ms/step - loss: 0.0141 - accuracy: 0.9980 - val_loss: 0.1320 - val_accuracy: 0.9674\n",
      "Epoch 5/10\n",
      "207/207 [==============================] - 3s 14ms/step - loss: 0.0106 - accuracy: 0.9979 - val_loss: 0.1309 - val_accuracy: 0.9643\n",
      "Epoch 6/10\n",
      "207/207 [==============================] - 3s 14ms/step - loss: 0.0084 - accuracy: 0.9980 - val_loss: 0.1467 - val_accuracy: 0.9601\n",
      "Epoch 7/10\n",
      "207/207 [==============================] - 3s 14ms/step - loss: 0.0068 - accuracy: 0.9983 - val_loss: 0.1654 - val_accuracy: 0.9571\n",
      "Epoch 8/10\n",
      "207/207 [==============================] - 3s 13ms/step - loss: 0.0069 - accuracy: 0.9980 - val_loss: 0.1612 - val_accuracy: 0.9571\n",
      "Epoch 9/10\n",
      "207/207 [==============================] - 3s 14ms/step - loss: 0.0071 - accuracy: 0.9979 - val_loss: 0.1389 - val_accuracy: 0.9619\n",
      "Epoch 10/10\n",
      "207/207 [==============================] - 3s 13ms/step - loss: 0.0057 - accuracy: 0.9983 - val_loss: 0.1882 - val_accuracy: 0.9516\n"
     ]
    }
   ],
   "source": [
    "# train the model using the train data\n",
    "history = model.fit(X_train_sparse, y_train, epochs=10, batch_size=32, validation_data=(X_val_sparse, y_val))"
   ]
  },
  {
   "cell_type": "code",
   "execution_count": 34,
   "id": "03a0414d-7445-4214-bd13-9500e2841b87",
   "metadata": {},
   "outputs": [
    {
     "name": "stdout",
     "output_type": "stream",
     "text": [
      "65/65 [==============================] - 1s 12ms/step\n",
      "Test Accuracy: 94.73%\n"
     ]
    }
   ],
   "source": [
    "#  Evaluate the model\n",
    "predictions = model.predict(X_test)\n",
    "y_pred = predictions.argmax(axis=1)\n",
    "accuracy = accuracy_score(y_test, y_pred)\n",
    "print(f'Test Accuracy: {accuracy * 100:.2f}%')"
   ]
  },
  {
   "cell_type": "code",
   "execution_count": 35,
   "id": "7ec98ae1-547a-4797-9672-3a4b4e9ba04d",
   "metadata": {},
   "outputs": [],
   "source": [
    "model.save('langDetection.h5')"
   ]
  },
  {
   "cell_type": "code",
   "execution_count": 39,
   "id": "56a6b8d5-8c26-416c-b7c1-636d67b2843e",
   "metadata": {},
   "outputs": [
    {
     "name": "stdout",
     "output_type": "stream",
     "text": [
      "Model: \"sequential_2\"\n",
      "_________________________________________________________________\n",
      " Layer (type)                Output Shape              Param #   \n",
      "=================================================================\n",
      " dense_7 (Dense)             (None, 128)               4455552   \n",
      "                                                                 \n",
      " dense_8 (Dense)             (None, 64)                8256      \n",
      "                                                                 \n",
      " dense_9 (Dense)             (None, 32)                2080      \n",
      "                                                                 \n",
      " dense_10 (Dense)            (None, 17)                561       \n",
      "                                                                 \n",
      "=================================================================\n",
      "Total params: 4466449 (17.04 MB)\n",
      "Trainable params: 4466449 (17.04 MB)\n",
      "Non-trainable params: 0 (0.00 Byte)\n",
      "_________________________________________________________________\n"
     ]
    }
   ],
   "source": [
    "from tensorflow.keras.models import load_model\n",
    "model = load_model('langDetection.h5')\n",
    "model.summary()"
   ]
  },
  {
   "cell_type": "code",
   "execution_count": 40,
   "id": "23bdb269-627f-482c-a8cb-ad0d0bbc3781",
   "metadata": {},
   "outputs": [],
   "source": [
    "import numpy as np\n",
    "\n",
    "# create a function to test the model out\n",
    "def predict_language(input_text):\n",
    "    # Preprocess input text\n",
    "    input_text = [input_text]\n",
    "    input_vector = vectorizer.transform(input_text)\n",
    "    input_sparse = tf.convert_to_tensor(input_vector.todense(), dtype=tf.float32)\n",
    "\n",
    "    # Make prediction using the trained model\n",
    "    predictions = model.predict(input_sparse)\n",
    "\n",
    "    # Convert predicted index back to language label\n",
    "    predicted_label_index = np.argmax(predictions)\n",
    "    predicted_language = label_encoder.classes_[predicted_label_index]\n",
    "\n",
    "    return predicted_language"
   ]
  },
  {
   "cell_type": "code",
   "execution_count": 59,
   "id": "ed0a9ceb-2c6b-42b3-8898-b3e227d8cd51",
   "metadata": {},
   "outputs": [
    {
     "name": "stdout",
     "output_type": "stream",
     "text": [
      "1/1 [==============================] - 0s 17ms/step\n",
      "The predicted language for 'i want to be king of the pirates' is: English\n"
     ]
    }
   ],
   "source": [
    "input_text = \"i want to be king of the pirates\"\n",
    "predicted_language = predict_language(input_text)\n",
    "\n",
    "print(f\"The predicted language for '{input_text}' is: {predicted_language}\")"
   ]
  },
  {
   "cell_type": "code",
   "execution_count": 45,
   "id": "4484f724-0f1a-43f6-b869-d9e63d2a29cb",
   "metadata": {},
   "outputs": [
    {
     "name": "stdout",
     "output_type": "stream",
     "text": [
      "1/1 [==============================] - 0s 16ms/step\n",
      "The predicted language for 'Hola Kaggle' is: Spanish\n"
     ]
    }
   ],
   "source": [
    "input_text = \"Hola Kaggle\"\n",
    "predicted_language = predict_language(input_text)\n",
    "\n",
    "print(f\"The predicted language for '{input_text}' is: {predicted_language}\")"
   ]
  },
  {
   "cell_type": "code",
   "execution_count": 61,
   "id": "6016b2ac-e833-4b30-b7bf-91930fcf9038",
   "metadata": {},
   "outputs": [
    {
     "name": "stdout",
     "output_type": "stream",
     "text": [
      "1/1 [==============================] - 0s 15ms/step\n",
      "The predicted language for 'Ich möchte König der Piraten sein' is: German\n"
     ]
    }
   ],
   "source": [
    "input_text = \"Ich möchte König der Piraten sein\"\n",
    "predicted_language = predict_language(input_text)\n",
    "\n",
    "print(f\"The predicted language for '{input_text}' is: {predicted_language}\")"
   ]
  },
  {
   "cell_type": "code",
   "execution_count": 60,
   "id": "3ebe4a1a-a0bb-4a91-8a86-dbcc7221eeee",
   "metadata": {},
   "outputs": [
    {
     "name": "stdout",
     "output_type": "stream",
     "text": [
      "1/1 [==============================] - 0s 14ms/step\n",
      "The predicted language for 'ನಾನು ಕಡಲ್ಗಳ್ಳರ ರಾಜನಾಗಲು ಬಯಸುತ್ತೇನೆ' is: Kannada\n"
     ]
    }
   ],
   "source": [
    "input_text = \"ನಾನು ಕಡಲ್ಗಳ್ಳರ ರಾಜನಾಗಲು ಬಯಸುತ್ತೇನೆ\"\n",
    "predicted_language = predict_language(input_text)\n",
    "\n",
    "print(f\"The predicted language for '{input_text}' is: {predicted_language}\")"
   ]
  },
  {
   "cell_type": "code",
   "execution_count": null,
   "id": "b28e74e6-a1e3-44ce-9380-8960f6fff273",
   "metadata": {},
   "outputs": [],
   "source": []
  }
 ],
 "metadata": {
  "kernelspec": {
   "display_name": "Python 3 (ipykernel)",
   "language": "python",
   "name": "python3"
  },
  "language_info": {
   "codemirror_mode": {
    "name": "ipython",
    "version": 3
   },
   "file_extension": ".py",
   "mimetype": "text/x-python",
   "name": "python",
   "nbconvert_exporter": "python",
   "pygments_lexer": "ipython3",
   "version": "3.11.8"
  }
 },
 "nbformat": 4,
 "nbformat_minor": 5
}
